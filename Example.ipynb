{
 "cells": [
  {
   "cell_type": "code",
   "execution_count": 1,
   "metadata": {},
   "outputs": [],
   "source": [
    "import numpy as np\n",
    "from algorithm.utils import *\n",
    "from algorithm.hierarchical_model import *\n",
    "from algorithm.get_causal_graph import *\n",
    "from evaluation.metrics import *\n"
   ]
  },
  {
   "cell_type": "code",
   "execution_count": 2,
   "metadata": {},
   "outputs": [],
   "source": [
    "X = np.load('data/tree.npy')\n",
    "adj_matrix_ground_truth = np.load('data/adj_matrix_tree.npy')"
   ]
  },
  {
   "cell_type": "code",
   "execution_count": 3,
   "metadata": {},
   "outputs": [
    {
     "name": "stdout",
     "output_type": "stream",
     "text": [
      "Warming up MINE...\n"
     ]
    },
    {
     "name": "stderr",
     "output_type": "stream",
     "text": [
      "Training: 100%|██████████| 400/400 [03:09<00:00,  2.11it/s]\n"
     ]
    }
   ],
   "source": [
    "loss, adj_matrix_pred = get_graph(X)"
   ]
  },
  {
   "cell_type": "code",
   "execution_count": 4,
   "metadata": {},
   "outputs": [
    {
     "name": "stdout",
     "output_type": "stream",
     "text": [
      "SHD: 0\n",
      "F1: 1.0\n"
     ]
    }
   ],
   "source": [
    "shd, f1, _ = get_shd_f1(adj_matrix_ground_truth, adj_matrix_pred,X.shape[1])\n",
    "print('SHD:', shd)\n",
    "print('F1:', f1)"
   ]
  }
 ],
 "metadata": {
  "kernelspec": {
   "display_name": "Python 3",
   "language": "python",
   "name": "python3"
  },
  "language_info": {
   "codemirror_mode": {
    "name": "ipython",
    "version": 3
   },
   "file_extension": ".py",
   "mimetype": "text/x-python",
   "name": "python",
   "nbconvert_exporter": "python",
   "pygments_lexer": "ipython3",
   "version": "3.8.10"
  }
 },
 "nbformat": 4,
 "nbformat_minor": 2
}
